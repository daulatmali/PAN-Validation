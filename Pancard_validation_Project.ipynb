{
 "cells": [
  {
   "cell_type": "code",
   "execution_count": 1,
   "id": "59e04c99-1a59-4ab4-95d2-bc7efd20e017",
   "metadata": {},
   "outputs": [],
   "source": [
    "import pandas as pd"
   ]
  },
  {
   "cell_type": "code",
   "execution_count": 2,
   "id": "29eaf75a-9753-4c53-a9a1-0c784ced82e3",
   "metadata": {},
   "outputs": [],
   "source": [
    "df = pd.read_excel(\"PAN Number Validation Dataset.xlsx\")"
   ]
  },
  {
   "cell_type": "code",
   "execution_count": 3,
   "id": "76136289-f59b-45a8-b7bd-53e9ebbeff80",
   "metadata": {},
   "outputs": [
    {
     "name": "stdout",
     "output_type": "stream",
     "text": [
      "     Pan_Numbers\n",
      "0     VGLOD3180G\n",
      "1     PHOXD7232L\n",
      "2     MGEPH6532A\n",
      "3     JJCHK4574O\n",
      "4     XTQIJ2330L\n",
      "5     HTJYM3835H\n",
      "6     YQTAP6661X\n",
      "7     hvofe5635y\n",
      "8   hyuij7902r  \n",
      "9     idsmt3429e\n",
      "10    abkjn5176j\n",
      "11    vuczu0860t\n",
      "12    hzvmg3577f\n",
      "13    owuis0525p\n",
      "14    ETVSQ2345L\n",
      "15    TWNGF1358L\n",
      "16    OUPMW5639M\n",
      "17    TLVFA0299E\n",
      "18  DOURT5035Y. \n",
      "19    GAVCQ1260C\n",
      "(10000, 1)\n"
     ]
    }
   ],
   "source": [
    "print(df.head(20))\n",
    "print(df.shape)"
   ]
  },
  {
   "cell_type": "code",
   "execution_count": 4,
   "id": "24c7a668-b87e-4721-8f82-767107fe8d18",
   "metadata": {},
   "outputs": [
    {
     "name": "stdout",
     "output_type": "stream",
     "text": [
      "  Pan_Numbers\n",
      "0  VGLOD3180G\n",
      "1  PHOXD7232L\n",
      "2  MGEPH6532A\n",
      "3  JJCHK4574O\n",
      "4  XTQIJ2330L\n"
     ]
    }
   ],
   "source": [
    "print(df.head())"
   ]
  },
  {
   "cell_type": "code",
   "execution_count": null,
   "id": "94731619-d57a-4cea-b41c-b05d1d53baf9",
   "metadata": {},
   "outputs": [],
   "source": [
    "                                                # DATA CLEANING"
   ]
  },
  {
   "cell_type": "code",
   "execution_count": 5,
   "id": "f0216d4c-d20b-490f-b1ce-18cc1298c503",
   "metadata": {},
   "outputs": [
    {
     "name": "stdout",
     "output_type": "stream",
     "text": [
      "\n",
      "\n",
      "Empty DataFrame\n",
      "Columns: [Pan_Numbers]\n",
      "Index: []\n",
      "     Pan_Numbers\n",
      "5022         NaN\n",
      "5027         NaN\n",
      "5033         NaN\n",
      "5043         NaN\n",
      "5057         NaN\n",
      "...          ...\n",
      "9961         NaN\n",
      "9972         NaN\n",
      "9986         NaN\n",
      "9987         NaN\n",
      "9997         NaN\n",
      "\n",
      "[965 rows x 1 columns]\n"
     ]
    }
   ],
   "source": [
    "print('\\n')\n",
    "print(df[df['Pan_Numbers']==''])\n",
    "print(df[df['Pan_Numbers'].isna()])"
   ]
  },
  {
   "cell_type": "code",
   "execution_count": 6,
   "id": "c700a5e9-36b8-40d9-bdd8-eae3d92c1f96",
   "metadata": {},
   "outputs": [
    {
     "name": "stdout",
     "output_type": "stream",
     "text": [
      "  Pan_Numbers\n",
      "0  VGLOD3180G\n",
      "1  PHOXD7232L\n",
      "2  MGEPH6532A\n",
      "3  JJCHK4574O\n",
      "4  XTQIJ2330L\n",
      "5  HTJYM3835H\n",
      "6  YQTAP6661X\n",
      "7  HVOFE5635Y\n",
      "8  HYUIJ7902R\n",
      "9  IDSMT3429E\n"
     ]
    }
   ],
   "source": [
    "df[\"Pan_Numbers\"] = df[\"Pan_Numbers\"].astype(\"string\").str.strip().str.upper() #converting in the uppercase the all data\n",
    "print(df.head(10))"
   ]
  },
  {
   "cell_type": "code",
   "execution_count": 7,
   "id": "4ee2dcd7-37db-402d-a898-f147f205cbd7",
   "metadata": {},
   "outputs": [
    {
     "name": "stdout",
     "output_type": "stream",
     "text": [
      "Empty DataFrame\n",
      "Columns: [Pan_Numbers]\n",
      "Index: []\n"
     ]
    }
   ],
   "source": [
    "df = df.replace({\"Pan_Numbers\":''},pd.NA)\n",
    "print(df[df['Pan_Numbers']==''])\n"
   ]
  },
  {
   "cell_type": "code",
   "execution_count": 8,
   "id": "cb9ecb8a-248e-4606-aa87-04509a3f5204",
   "metadata": {},
   "outputs": [
    {
     "name": "stdout",
     "output_type": "stream",
     "text": [
      "     Pan_Numbers\n",
      "5019        <NA>\n",
      "5020        <NA>\n",
      "5022        <NA>\n",
      "5027        <NA>\n",
      "5033        <NA>\n",
      "...          ...\n",
      "9961        <NA>\n",
      "9972        <NA>\n",
      "9986        <NA>\n",
      "9987        <NA>\n",
      "9997        <NA>\n",
      "\n",
      "[967 rows x 1 columns]\n"
     ]
    }
   ],
   "source": [
    "print(df[df['Pan_Numbers'].isna()])"
   ]
  },
  {
   "cell_type": "code",
   "execution_count": null,
   "id": "cbd3cfec-2a91-4c06-a7d1-c381118d1e0a",
   "metadata": {},
   "outputs": [],
   "source": []
  },
  {
   "cell_type": "code",
   "execution_count": 9,
   "id": "135da09f-37ac-4dee-a675-c311c7f7e741",
   "metadata": {},
   "outputs": [
    {
     "name": "stdout",
     "output_type": "stream",
     "text": [
      "     Pan_Numbers\n",
      "5019        <NA>\n",
      "5020        <NA>\n",
      "5022        <NA>\n",
      "5027        <NA>\n",
      "5033        <NA>\n",
      "...          ...\n",
      "9961        <NA>\n",
      "9972        <NA>\n",
      "9986        <NA>\n",
      "9987        <NA>\n",
      "9997        <NA>\n",
      "\n",
      "[967 rows x 1 columns]\n"
     ]
    }
   ],
   "source": [
    "# Check for NaN or empty string after stripping spaces\n",
    "empty_rows = df[df['Pan_Numbers'].isna() | (df['Pan_Numbers'].str.strip() == \"\")]\n",
    "print(empty_rows)\n"
   ]
  },
  {
   "cell_type": "code",
   "execution_count": 10,
   "id": "20ae92ea-b4b3-4307-9bee-cc4cc20603c3",
   "metadata": {},
   "outputs": [
    {
     "name": "stdout",
     "output_type": "stream",
     "text": [
      "967\n"
     ]
    }
   ],
   "source": [
    "\n",
    "# Replace empty strings \"\" with NaN\n",
    "df[\"Pan_Numbers\"] = df[\"Pan_Numbers\"].replace(\"\", pd.NA)\n",
    "\n",
    "# Now check missing values\n",
    "print(df[\"Pan_Numbers\"].isna().sum())\n"
   ]
  },
  {
   "cell_type": "code",
   "execution_count": 11,
   "id": "036b5655-037b-41b3-9579-ae90cebd816d",
   "metadata": {},
   "outputs": [
    {
     "name": "stdout",
     "output_type": "stream",
     "text": [
      "total records =  9033\n"
     ]
    }
   ],
   "source": [
    "df = df.replace({\"Pan_Numbers\":''},pd.NA).dropna(subset='Pan_Numbers')\n",
    "print('total records = ' ,len(df))"
   ]
  },
  {
   "cell_type": "code",
   "execution_count": 12,
   "id": "79aa61eb-adc6-4558-afd9-ac5af9462551",
   "metadata": {},
   "outputs": [
    {
     "name": "stdout",
     "output_type": "stream",
     "text": [
      "total Records =  9033\n",
      "Unique Records=  9025\n",
      "Duplicate Pans: 8\n",
      "total NA Records =  0\n"
     ]
    }
   ],
   "source": [
    "# checking duplicates\n",
    "print('total Records = ' ,len(df))\n",
    "print('Unique Records= ' ,df[\"Pan_Numbers\"].nunique())\n",
    "print(\"Duplicate Pans:\", len(df) - df[\"Pan_Numbers\"].nunique())\n",
    "print('total NA Records = ',df[\"Pan_Numbers\"].isna().sum())"
   ]
  },
  {
   "cell_type": "code",
   "execution_count": 13,
   "id": "5ea771a7-5b04-4712-869e-20034728a725",
   "metadata": {},
   "outputs": [
    {
     "name": "stdout",
     "output_type": "stream",
     "text": [
      "total Records =  9025\n",
      "Unique Records=  9025\n",
      "Duplicate Pans: 0\n"
     ]
    }
   ],
   "source": [
    "# DROP DUPLICATES\n",
    "df = df.drop_duplicates(subset=\"Pan_Numbers\",keep='first')\n",
    "print('total Records = ' ,len(df))\n",
    "print('Unique Records= ' ,df[\"Pan_Numbers\"].nunique())\n",
    "print(\"Duplicate Pans:\", len(df) - df[\"Pan_Numbers\"].nunique())"
   ]
  },
  {
   "cell_type": "code",
   "execution_count": null,
   "id": "1b3f5eef-4111-4920-9160-eae40abb1744",
   "metadata": {},
   "outputs": [],
   "source": [
    "                                                # DATA VALIDATION"
   ]
  },
  {
   "cell_type": "code",
   "execution_count": 14,
   "id": "88440bb0-b2c9-4503-8e37-fdb6aa94678b",
   "metadata": {},
   "outputs": [
    {
     "name": "stdout",
     "output_type": "stream",
     "text": [
      "<generator object has_adjacent_repitition.<locals>.<genexpr> at 0x000001E9E49FB4C0>\n",
      "<generator object has_adjacent_repitition.<locals>.<genexpr> at 0x000001E9E49FB4C0>\n",
      "<generator object has_adjacent_repitition.<locals>.<genexpr> at 0x000001E9E49FB4C0>\n",
      "<generator object has_adjacent_repitition.<locals>.<genexpr> at 0x000001E9E49FB4C0>\n"
     ]
    }
   ],
   "source": [
    "def has_adjacent_repitition(pan):#ABCD , ABCDX\n",
    "    # for i in range (len(pan)-1):\n",
    "    #     if pan[i] == pan[i+1]:\n",
    "    #         return True\n",
    "    # return False\n",
    "    return(pan[i] == [i+1] for i in range(len(pan)-1))\n",
    "\n",
    "print(has_adjacent_repitition('ABCD'))\n",
    "print(has_adjacent_repitition('FGHHH'))\n",
    "print(has_adjacent_repitition('ABCDX'))\n",
    "print(has_adjacent_repitition('MNJPQ'))"
   ]
  },
  {
   "cell_type": "code",
   "execution_count": 15,
   "id": "60fb7d3b-2d4a-4254-bf6b-53c42fe8476a",
   "metadata": {},
   "outputs": [
    {
     "name": "stdout",
     "output_type": "stream",
     "text": [
      "True\n",
      "True\n",
      "False\n",
      "False\n"
     ]
    }
   ],
   "source": [
    "# def is_sequencial(pan):\n",
    "#     # for i in range(len(pan)-1):\n",
    "#     #     if ord(pan[i+1]) - ord(pan[i]) != 1:\n",
    "#     #         return False\n",
    "#     # return True\n",
    "#     return all(ord(pan[i+1]) - ord(pan[i]) == 1 for i in range(len(pan)-1))\n",
    "\n",
    "# print(has_adjacent_repitition('ABCD'))\n",
    "# print(has_adjacent_repitition('MNOPQ'))\n",
    "# print(has_adjacent_repitition('ABCXY'))\n",
    "# print(has_adjacent_repitition('MNJPQ'))\n",
    "def is_sequencial(pan):\n",
    "    # check if every next character is +1 from previous\n",
    "    return all(ord(pan[i+1]) - ord(pan[i]) == 1 for i in range(len(pan)-1))\n",
    "\n",
    "\n",
    "print(is_sequencial('ABCD'))   \n",
    "print(is_sequencial('MNOPQ'))  \n",
    "print(is_sequencial('ABCXY'))  \n",
    "print(is_sequencial('MNJPQ'))  \n",
    "\n"
   ]
  },
  {
   "cell_type": "code",
   "execution_count": 16,
   "id": "7bc601c4-e465-4289-8f2e-f30bc94084a7",
   "metadata": {},
   "outputs": [],
   "source": [
    "import re"
   ]
  },
  {
   "cell_type": "code",
   "execution_count": 17,
   "id": "9956cf11-b3c6-4a87-9594-2fe1f1663d09",
   "metadata": {},
   "outputs": [
    {
     "name": "stdout",
     "output_type": "stream",
     "text": [
      "True\n",
      "True\n",
      "False\n",
      "False\n"
     ]
    }
   ],
   "source": [
    "\n",
    "def is_valid_pan(pan):\n",
    "    # 1. Check length\n",
    "    if len(pan) != 10:\n",
    "        return False\n",
    "    \n",
    "    # 2. Check format with regex\n",
    "    if not re.match(r'^[A-Z]{5}[0-9]{4}[A-Z]$', pan):\n",
    "        return False\n",
    "    \n",
    "    # 3. Check no adjacent repetition of characters\n",
    "    if any(pan[i] == pan[i+1] for i in range(len(pan)-1)):\n",
    "        return False\n",
    "    \n",
    "    # 4. Check not sequential like ABCD, 1234, etc.\n",
    "    if all(ord(pan[i+1]) - ord(pan[i]) == 1 for i in range(len(pan)-1)):\n",
    "        return False\n",
    "    \n",
    "    return True\n",
    "print(is_sequencial('ABCD'))   \n",
    "print(is_sequencial('MNOPQ'))  \n",
    "print(is_sequencial('ABCXY'))  \n",
    "print(is_sequencial('MNJPQ'))  \n"
   ]
  },
  {
   "cell_type": "code",
   "execution_count": 22,
   "id": "9a39d159-a5e3-4018-bb45-dcf5b7051865",
   "metadata": {},
   "outputs": [
    {
     "name": "stdout",
     "output_type": "stream",
     "text": [
      "  Pan_Numbers   Status\n",
      "0  VGLOD3180G    valid\n",
      "1  PHOXD7232L    valid\n",
      "2  MGEPH6532A    valid\n",
      "3  JJCHK4574O  invalid\n",
      "4  XTQIJ2330L  invalid\n",
      "5  HTJYM3835H    valid\n",
      "6  YQTAP6661X  invalid\n",
      "7  HVOFE5635Y    valid\n",
      "8  HYUIJ7902R    valid\n",
      "9  IDSMT3429E    valid\n"
     ]
    }
   ],
   "source": [
    "df[\"Status\"] = df['Pan_Numbers'].apply(lambda x: \"valid\" if is_valid_pan(x) else \"invalid\")\n",
    "print(df.head(10))"
   ]
  },
  {
   "cell_type": "markdown",
   "id": "7ea3340b-ef30-4628-8608-7a05a820a4e4",
   "metadata": {},
   "source": [
    "## valid_cnt = (df[\"Status\"] == 'valid').sum()\n",
    "invalid_cnt = (df[\"Status\"] == 'invalid').sum()\n",
    "missing_cnt = total_records - (valid_cnt+invalid_cnt)\n",
    "\n",
    "print('total records = ',total_records)\n",
    "print('valid = ',valid_cnt)\n",
    "print('invalid = ',invalid_cnt)\n",
    "print('Missing = ',missing_cnt)\n",
    "\n"
   ]
  },
  {
   "cell_type": "code",
   "execution_count": 26,
   "id": "e6e8145f-b498-4cb8-a9ed-b294a60c66cf",
   "metadata": {},
   "outputs": [
    {
     "name": "stdout",
     "output_type": "stream",
     "text": [
      "   TOTAL PROCESSED RECORDS   TOTAL VALID COUNTS  TOTAL INVALID COUNT  \\\n",
      "0                      9025                3193                 5832   \n",
      "\n",
      "   TOTAL MISSING COUNT  \n",
      "0                    0  \n"
     ]
    }
   ],
   "source": [
    "df_summary = pd.DataFrame({\"TOTAL PROCESSED RECORDS \":[total_records]\n",
    "                           ,\"TOTAL VALID COUNTS\":[valid_cnt]\n",
    "                           ,\"TOTAL INVALID COUNT\":[invalid_cnt]\n",
    "                           ,\"TOTAL MISSING COUNT\":[missing_cnt]})\n",
    "print(df_summary.head())"
   ]
  },
  {
   "cell_type": "code",
   "execution_count": 30,
   "id": "b4d57006-c10c-409b-bc85-e58a70ae23a1",
   "metadata": {},
   "outputs": [],
   "source": [
    "import pandas as pd\n",
    "\n",
    "with pd.ExcelWriter(\"PAN VALIDATION.xlsx\") as writer:\n",
    "    df.to_excel(writer, sheet_name=\"PAN Validations 1\", index=False)\n",
    "    df_summary.to_excel(writer, sheet_name=\"SUMMARY\", index=False)\n"
   ]
  },
  {
   "cell_type": "code",
   "execution_count": null,
   "id": "170d2b5d-92bd-45b1-847a-da47700565e6",
   "metadata": {},
   "outputs": [],
   "source": []
  }
 ],
 "metadata": {
  "kernelspec": {
   "display_name": "Python 3 (ipykernel)",
   "language": "python",
   "name": "python3"
  },
  "language_info": {
   "codemirror_mode": {
    "name": "ipython",
    "version": 3
   },
   "file_extension": ".py",
   "mimetype": "text/x-python",
   "name": "python",
   "nbconvert_exporter": "python",
   "pygments_lexer": "ipython3",
   "version": "3.13.2"
  }
 },
 "nbformat": 4,
 "nbformat_minor": 5
}
